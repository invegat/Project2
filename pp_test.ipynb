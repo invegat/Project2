{
 "cells": [
  {
   "cell_type": "code",
   "execution_count": 60,
   "id": "effb318b",
   "metadata": {},
   "outputs": [],
   "source": [
    "import pandas as pd\n",
    "import numpy as np"
   ]
  },
  {
   "cell_type": "code",
   "execution_count": 61,
   "id": "760e734f",
   "metadata": {},
   "outputs": [],
   "source": [
    "df_train = pd.read_csv(\"./adult_train.pp.csv\")"
   ]
  },
  {
   "cell_type": "code",
   "execution_count": 62,
   "id": "e208376e",
   "metadata": {},
   "outputs": [],
   "source": [
    "train_columns = df_train.columns.to_list()"
   ]
  },
  {
   "cell_type": "markdown",
   "id": "5ea0d782",
   "metadata": {},
   "source": [
    "native country: United-States, other (all the other countries)\n",
    "o workclass: Gov (Federal-gov, Local-gov, State-gov), Not-working (Without-pay, Neverworked), Private, Self-employed (Self-emp-inc, Self-emp-not-inc)\n",
    "o marital-status: Married (Married-AF-spouse, Married-civ-spouse), Never-married, Notmarried (Married-spouse-absent, Separated, Divorced, Widowed)\n",
    "o occupation: Exec-managerial, Prof-specialty, Other (Tech-support, Adm-clerical, Privhouse-serv, Protective-serv, Armed-Forces, Other-service), ManualWork (Craft-repair,\n",
    "Farming-fishing, Handlers-cleaners, Machine-op-inspct, Transport-moving), Sales"
   ]
  },
  {
   "cell_type": "code",
   "execution_count": 63,
   "id": "3a36e532",
   "metadata": {},
   "outputs": [],
   "source": [
    "df_test = pd.read_csv(\"./adult_test.unpatched.pp.csv\")"
   ]
  },
  {
   "cell_type": "code",
   "execution_count": 64,
   "id": "e75684f4",
   "metadata": {},
   "outputs": [],
   "source": [
    "df_test.insert(6,\"workclass_Not-working\",np.zeros(len(df_test)) )"
   ]
  },
  {
   "cell_type": "code",
   "execution_count": 65,
   "id": "da8208c6",
   "metadata": {},
   "outputs": [],
   "source": [
    "test_columns = df_test.columns.to_list()"
   ]
  },
  {
   "cell_type": "code",
   "execution_count": 66,
   "id": "bb5f8966",
   "metadata": {},
   "outputs": [],
   "source": [
    "assert train_columns == test_columns, \"mismatched columns\""
   ]
  },
  {
   "cell_type": "code",
   "execution_count": 67,
   "id": "36ac7cba",
   "metadata": {},
   "outputs": [],
   "source": [
    "df_test.to_csv(\"./adult_test.pp.csv\", index=False)"
   ]
  },
  {
   "cell_type": "code",
   "execution_count": null,
   "id": "744e5a51",
   "metadata": {},
   "outputs": [],
   "source": []
  }
 ],
 "metadata": {
  "kernelspec": {
   "display_name": "Python 3 (ipykernel)",
   "language": "python",
   "name": "python3"
  },
  "language_info": {
   "codemirror_mode": {
    "name": "ipython",
    "version": 3
   },
   "file_extension": ".py",
   "mimetype": "text/x-python",
   "name": "python",
   "nbconvert_exporter": "python",
   "pygments_lexer": "ipython3",
   "version": "3.11.0"
  }
 },
 "nbformat": 4,
 "nbformat_minor": 5
}
