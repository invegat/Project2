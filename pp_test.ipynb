{
 "cells": [
  {
   "cell_type": "code",
   "execution_count": 52,
   "id": "e0eb0745",
   "metadata": {},
   "outputs": [],
   "source": [
    "import pandas as pd\n",
    "import numpy as np"
   ]
  },
  {
   "cell_type": "code",
   "execution_count": 53,
   "id": "21929a74",
   "metadata": {},
   "outputs": [],
   "source": [
    "df_train = pd.read_csv(\"./df_train.pp.csv\")"
   ]
  },
  {
   "cell_type": "code",
   "execution_count": 54,
   "id": "2606f769",
   "metadata": {},
   "outputs": [],
   "source": [
    "train_columns = df_train.columns.to_list()"
   ]
  },
  {
   "cell_type": "markdown",
   "id": "a4c6ce83",
   "metadata": {},
   "source": [
    "native country: United-States, other (all the other countries)\n",
    "o workclass: Gov (Federal-gov, Local-gov, State-gov), Not-working (Without-pay, Neverworked), Private, Self-employed (Self-emp-inc, Self-emp-not-inc)\n",
    "o marital-status: Married (Married-AF-spouse, Married-civ-spouse), Never-married, Notmarried (Married-spouse-absent, Separated, Divorced, Widowed)\n",
    "o occupation: Exec-managerial, Prof-specialty, Other (Tech-support, Adm-clerical, Privhouse-serv, Protective-serv, Armed-Forces, Other-service), ManualWork (Craft-repair,\n",
    "Farming-fishing, Handlers-cleaners, Machine-op-inspct, Transport-moving), Sales"
   ]
  },
  {
   "cell_type": "code",
   "execution_count": 55,
   "id": "27cf3b82",
   "metadata": {},
   "outputs": [],
   "source": [
    "df_test = pd.read_csv(\"./df_test.unpatched.pp.csv\")"
   ]
  },
  {
   "cell_type": "code",
   "execution_count": 56,
   "id": "40c55574",
   "metadata": {},
   "outputs": [],
   "source": [
    "df_test.insert(6,\"workclass_Not-working\",np.zeros(len(df_test)) )"
   ]
  },
  {
   "cell_type": "code",
   "execution_count": 57,
   "id": "2b842669",
   "metadata": {},
   "outputs": [],
   "source": [
    "test_columns = df_test.columns.to_list()"
   ]
  },
  {
   "cell_type": "code",
   "execution_count": 58,
   "id": "e2bd01ef",
   "metadata": {},
   "outputs": [],
   "source": [
    "assert train_columns == test_columns, \"mismatched columns\""
   ]
  },
  {
   "cell_type": "code",
   "execution_count": 59,
   "id": "ec845214",
   "metadata": {},
   "outputs": [],
   "source": [
    "df_test.to_csv(\"./df_test.pp.csv\", index=False)"
   ]
  },
  {
   "cell_type": "code",
   "execution_count": null,
   "id": "8b5a7211",
   "metadata": {},
   "outputs": [],
   "source": []
  }
 ],
 "metadata": {
  "kernelspec": {
   "display_name": "Python 3 (ipykernel)",
   "language": "python",
   "name": "python3"
  },
  "language_info": {
   "codemirror_mode": {
    "name": "ipython",
    "version": 3
   },
   "file_extension": ".py",
   "mimetype": "text/x-python",
   "name": "python",
   "nbconvert_exporter": "python",
   "pygments_lexer": "ipython3",
   "version": "3.11.0"
  }
 },
 "nbformat": 4,
 "nbformat_minor": 5
}
