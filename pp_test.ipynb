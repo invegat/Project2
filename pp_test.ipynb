{
 "cells": [
  {
   "cell_type": "code",
   "execution_count": 44,
   "id": "91b27034",
   "metadata": {},
   "outputs": [],
   "source": [
    "import pandas as pd\n",
    "import numpy as np"
   ]
  },
  {
   "cell_type": "code",
   "execution_count": 45,
   "id": "14fae85c",
   "metadata": {},
   "outputs": [],
   "source": [
    "df_train = pd.read_csv(\"./df_train.pp.csv\")"
   ]
  },
  {
   "cell_type": "code",
   "execution_count": 46,
   "id": "54ef1cc8",
   "metadata": {},
   "outputs": [],
   "source": [
    "train_columns = df_train.columns.to_list()"
   ]
  },
  {
   "cell_type": "markdown",
   "id": "1bded4b0",
   "metadata": {},
   "source": [
    "native country: United-States, other (all the other countries)\n",
    "o workclass: Gov (Federal-gov, Local-gov, State-gov), Not-working (Without-pay, Neverworked), Private, Self-employed (Self-emp-inc, Self-emp-not-inc)\n",
    "o marital-status: Married (Married-AF-spouse, Married-civ-spouse), Never-married, Notmarried (Married-spouse-absent, Separated, Divorced, Widowed)\n",
    "o occupation: Exec-managerial, Prof-specialty, Other (Tech-support, Adm-clerical, Privhouse-serv, Protective-serv, Armed-Forces, Other-service), ManualWork (Craft-repair,\n",
    "Farming-fishing, Handlers-cleaners, Machine-op-inspct, Transport-moving), Sales"
   ]
  },
  {
   "cell_type": "code",
   "execution_count": 47,
   "id": "8eaadb50",
   "metadata": {},
   "outputs": [],
   "source": [
    "df_test = pd.read_csv(\"./df_test.pp.csv\")"
   ]
  },
  {
   "cell_type": "code",
   "execution_count": 48,
   "id": "01de89a4",
   "metadata": {},
   "outputs": [],
   "source": [
    "df_test.insert(6,\"workclass_Not-working\",np.zeros(len(df_test)) )"
   ]
  },
  {
   "cell_type": "code",
   "execution_count": 49,
   "id": "3fdb7ef3",
   "metadata": {},
   "outputs": [],
   "source": [
    "test_columns = df_test.columns.to_list()"
   ]
  },
  {
   "cell_type": "code",
   "execution_count": 50,
   "id": "6ecb286e",
   "metadata": {},
   "outputs": [],
   "source": [
    "assert train_columns == test_columns, \"mismatched columns\""
   ]
  },
  {
   "cell_type": "code",
   "execution_count": 51,
   "id": "9267ebee",
   "metadata": {},
   "outputs": [],
   "source": [
    "df_test.to_csv(\"./df_test.pp.csv\", index=False)"
   ]
  },
  {
   "cell_type": "code",
   "execution_count": null,
   "id": "36854075",
   "metadata": {},
   "outputs": [],
   "source": []
  }
 ],
 "metadata": {
  "kernelspec": {
   "display_name": "Python 3 (ipykernel)",
   "language": "python",
   "name": "python3"
  },
  "language_info": {
   "codemirror_mode": {
    "name": "ipython",
    "version": 3
   },
   "file_extension": ".py",
   "mimetype": "text/x-python",
   "name": "python",
   "nbconvert_exporter": "python",
   "pygments_lexer": "ipython3",
   "version": "3.11.0"
  }
 },
 "nbformat": 4,
 "nbformat_minor": 5
}
